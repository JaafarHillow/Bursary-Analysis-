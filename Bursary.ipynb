{
 "cells": [
  {
   "cell_type": "code",
   "execution_count": 2,
   "id": "b2db0f50-69a1-4556-a3e0-539ec011d884",
   "metadata": {},
   "outputs": [],
   "source": [
    "import pandas as pd\n",
    "import matplotlib.pyplot as plt"
   ]
  },
  {
   "cell_type": "code",
   "execution_count": 3,
   "id": "6ccf5025-4372-4541-aed5-466c85eeaed3",
   "metadata": {
    "scrolled": true
   },
   "outputs": [
    {
     "data": {
      "text/html": [
       "<div>\n",
       "<style scoped>\n",
       "    .dataframe tbody tr th:only-of-type {\n",
       "        vertical-align: middle;\n",
       "    }\n",
       "\n",
       "    .dataframe tbody tr th {\n",
       "        vertical-align: top;\n",
       "    }\n",
       "\n",
       "    .dataframe thead th {\n",
       "        text-align: right;\n",
       "    }\n",
       "</style>\n",
       "<table border=\"1\" class=\"dataframe\">\n",
       "  <thead>\n",
       "    <tr style=\"text-align: right;\">\n",
       "      <th></th>\n",
       "      <th>#</th>\n",
       "      <th>Institution</th>\n",
       "      <th>Student Names</th>\n",
       "      <th>Adm No.</th>\n",
       "      <th>Amount</th>\n",
       "      <th>Ward</th>\n",
       "    </tr>\n",
       "  </thead>\n",
       "  <tbody>\n",
       "    <tr>\n",
       "      <th>0</th>\n",
       "      <td>1</td>\n",
       "      <td>TECHNICAL UNIVERSITY OF KENYA</td>\n",
       "      <td>A bdijibal Sheikh Sugal</td>\n",
       "      <td>EICI/03516P/2020</td>\n",
       "      <td>10000</td>\n",
       "      <td>LIBEHIYA WARD</td>\n",
       "    </tr>\n",
       "    <tr>\n",
       "      <th>1</th>\n",
       "      <td>2</td>\n",
       "      <td>UNIVERSITY OF NAIROBI</td>\n",
       "      <td>AAISHA RASHID GORO</td>\n",
       "      <td>COI/5919/2022</td>\n",
       "      <td>24000</td>\n",
       "      <td>NEBOI WARD</td>\n",
       "    </tr>\n",
       "    <tr>\n",
       "      <th>2</th>\n",
       "      <td>3</td>\n",
       "      <td>KENYA MEDICAL TRAINING COLLEGE</td>\n",
       "      <td>ABADISHUKRI SUBANE BULLE</td>\n",
       "      <td>D/PHARM/22018/1032</td>\n",
       "      <td>10000</td>\n",
       "      <td>ARABIA WARD</td>\n",
       "    </tr>\n",
       "    <tr>\n",
       "      <th>3</th>\n",
       "      <td>4</td>\n",
       "      <td>KENYA MEDICAL TRAINING COLLEGE</td>\n",
       "      <td>ABAN NUR DAUD</td>\n",
       "      <td>NURS/22062/907</td>\n",
       "      <td>10000</td>\n",
       "      <td>LIBEHIYA WARD</td>\n",
       "    </tr>\n",
       "    <tr>\n",
       "      <th>4</th>\n",
       "      <td>5</td>\n",
       "      <td>SANKURI SECONDARY SCHOOL</td>\n",
       "      <td>ABAS MOHAMED ALIO</td>\n",
       "      <td>3218</td>\n",
       "      <td>25000</td>\n",
       "      <td>KuTULO WARD</td>\n",
       "    </tr>\n",
       "    <tr>\n",
       "      <th>...</th>\n",
       "      <td>...</td>\n",
       "      <td>...</td>\n",
       "      <td>...</td>\n",
       "      <td>...</td>\n",
       "      <td>...</td>\n",
       "      <td>...</td>\n",
       "    </tr>\n",
       "    <tr>\n",
       "      <th>6316</th>\n",
       "      <td>6317</td>\n",
       "      <td>MOUNT KENYA UNIVERSITY</td>\n",
       "      <td>ZULEKHA DAISOW ABDI</td>\n",
       "      <td>CHRIT/2023/53753</td>\n",
       "      <td>14000</td>\n",
       "      <td>MALKAMARI WARD</td>\n",
       "    </tr>\n",
       "    <tr>\n",
       "      <th>6317</th>\n",
       "      <td>6318</td>\n",
       "      <td>MOUNT KENYA UNIVERSITY</td>\n",
       "      <td>ZULFA MOHAMED HAJJ</td>\n",
       "      <td>BEDA/2023/37574</td>\n",
       "      <td>6000</td>\n",
       "      <td>ASHABITO WARD</td>\n",
       "    </tr>\n",
       "    <tr>\n",
       "      <th>6318</th>\n",
       "      <td>6319</td>\n",
       "      <td>MOUNT KENYA UNIVERSITY</td>\n",
       "      <td>Zumar Ibrahim Haji</td>\n",
       "      <td>Adm. NO. 2022/55981</td>\n",
       "      <td>7000</td>\n",
       "      <td>ELWAK NORTH WARD</td>\n",
       "    </tr>\n",
       "    <tr>\n",
       "      <th>6319</th>\n",
       "      <td>6320</td>\n",
       "      <td>KENYA MEDICAL TRAINING COLLEGE</td>\n",
       "      <td>ZUMRA ISMAIL AMOW</td>\n",
       "      <td>D/MLS/23008/785</td>\n",
       "      <td>10000</td>\n",
       "      <td>TOWNSHIP WARD</td>\n",
       "    </tr>\n",
       "    <tr>\n",
       "      <th>6320</th>\n",
       "      <td>6321</td>\n",
       "      <td>STATE HOUSE GIRLS SECONDARY SCHOOL</td>\n",
       "      <td>ZUMRA Shiekh Mohamed</td>\n",
       "      <td>12581</td>\n",
       "      <td>13000</td>\n",
       "      <td>MAROTHILE WARD</td>\n",
       "    </tr>\n",
       "  </tbody>\n",
       "</table>\n",
       "<p>6321 rows × 6 columns</p>\n",
       "</div>"
      ],
      "text/plain": [
       "         #                         Institution             Student Names  \\\n",
       "0        1       TECHNICAL UNIVERSITY OF KENYA   A bdijibal Sheikh Sugal   \n",
       "1        2               UNIVERSITY OF NAIROBI        AAISHA RASHID GORO   \n",
       "2        3      KENYA MEDICAL TRAINING COLLEGE  ABADISHUKRI SUBANE BULLE   \n",
       "3        4      KENYA MEDICAL TRAINING COLLEGE             ABAN NUR DAUD   \n",
       "4        5            SANKURI SECONDARY SCHOOL         ABAS MOHAMED ALIO   \n",
       "...    ...                                 ...                       ...   \n",
       "6316  6317              MOUNT KENYA UNIVERSITY       ZULEKHA DAISOW ABDI   \n",
       "6317  6318              MOUNT KENYA UNIVERSITY        ZULFA MOHAMED HAJJ   \n",
       "6318  6319              MOUNT KENYA UNIVERSITY        Zumar Ibrahim Haji   \n",
       "6319  6320      KENYA MEDICAL TRAINING COLLEGE         ZUMRA ISMAIL AMOW   \n",
       "6320  6321  STATE HOUSE GIRLS SECONDARY SCHOOL      ZUMRA Shiekh Mohamed   \n",
       "\n",
       "                  Adm No.  Amount              Ward  \n",
       "0        EICI/03516P/2020   10000     LIBEHIYA WARD  \n",
       "1           COI/5919/2022   24000        NEBOI WARD  \n",
       "2      D/PHARM/22018/1032   10000       ARABIA WARD  \n",
       "3          NURS/22062/907   10000     LIBEHIYA WARD  \n",
       "4                    3218   25000       KuTULO WARD  \n",
       "...                   ...     ...               ...  \n",
       "6316     CHRIT/2023/53753   14000    MALKAMARI WARD  \n",
       "6317      BEDA/2023/37574    6000     ASHABITO WARD  \n",
       "6318  Adm. NO. 2022/55981    7000  ELWAK NORTH WARD  \n",
       "6319      D/MLS/23008/785   10000     TOWNSHIP WARD  \n",
       "6320                12581   13000    MAROTHILE WARD  \n",
       "\n",
       "[6321 rows x 6 columns]"
      ]
     },
     "execution_count": 3,
     "metadata": {},
     "output_type": "execute_result"
    }
   ],
   "source": [
    "Bursary = pd.read_excel('All-Beneficiaries-Report (2).xlsx')\n",
    "Bursary"
   ]
  },
  {
   "cell_type": "code",
   "execution_count": 4,
   "id": "0df5c4a0-b226-4db6-a2c1-a42b94f53603",
   "metadata": {
    "scrolled": true
   },
   "outputs": [
    {
     "data": {
      "text/html": [
       "<div>\n",
       "<style scoped>\n",
       "    .dataframe tbody tr th:only-of-type {\n",
       "        vertical-align: middle;\n",
       "    }\n",
       "\n",
       "    .dataframe tbody tr th {\n",
       "        vertical-align: top;\n",
       "    }\n",
       "\n",
       "    .dataframe thead th {\n",
       "        text-align: right;\n",
       "    }\n",
       "</style>\n",
       "<table border=\"1\" class=\"dataframe\">\n",
       "  <thead>\n",
       "    <tr style=\"text-align: right;\">\n",
       "      <th></th>\n",
       "      <th>Institution</th>\n",
       "      <th>Student Names</th>\n",
       "      <th>Adm No.</th>\n",
       "      <th>Amount</th>\n",
       "      <th>Ward</th>\n",
       "    </tr>\n",
       "    <tr>\n",
       "      <th>#</th>\n",
       "      <th></th>\n",
       "      <th></th>\n",
       "      <th></th>\n",
       "      <th></th>\n",
       "      <th></th>\n",
       "    </tr>\n",
       "  </thead>\n",
       "  <tbody>\n",
       "    <tr>\n",
       "      <th>1</th>\n",
       "      <td>TECHNICAL UNIVERSITY OF KENYA</td>\n",
       "      <td>A bdijibal Sheikh Sugal</td>\n",
       "      <td>EICI/03516P/2020</td>\n",
       "      <td>10000</td>\n",
       "      <td>LIBEHIYA WARD</td>\n",
       "    </tr>\n",
       "    <tr>\n",
       "      <th>2</th>\n",
       "      <td>UNIVERSITY OF NAIROBI</td>\n",
       "      <td>AAISHA RASHID GORO</td>\n",
       "      <td>COI/5919/2022</td>\n",
       "      <td>24000</td>\n",
       "      <td>NEBOI WARD</td>\n",
       "    </tr>\n",
       "    <tr>\n",
       "      <th>3</th>\n",
       "      <td>KENYA MEDICAL TRAINING COLLEGE</td>\n",
       "      <td>ABADISHUKRI SUBANE BULLE</td>\n",
       "      <td>D/PHARM/22018/1032</td>\n",
       "      <td>10000</td>\n",
       "      <td>ARABIA WARD</td>\n",
       "    </tr>\n",
       "    <tr>\n",
       "      <th>4</th>\n",
       "      <td>KENYA MEDICAL TRAINING COLLEGE</td>\n",
       "      <td>ABAN NUR DAUD</td>\n",
       "      <td>NURS/22062/907</td>\n",
       "      <td>10000</td>\n",
       "      <td>LIBEHIYA WARD</td>\n",
       "    </tr>\n",
       "    <tr>\n",
       "      <th>5</th>\n",
       "      <td>SANKURI SECONDARY SCHOOL</td>\n",
       "      <td>ABAS MOHAMED ALIO</td>\n",
       "      <td>3218</td>\n",
       "      <td>25000</td>\n",
       "      <td>KuTULO WARD</td>\n",
       "    </tr>\n",
       "  </tbody>\n",
       "</table>\n",
       "</div>"
      ],
      "text/plain": [
       "                      Institution             Student Names  \\\n",
       "#                                                             \n",
       "1   TECHNICAL UNIVERSITY OF KENYA   A bdijibal Sheikh Sugal   \n",
       "2           UNIVERSITY OF NAIROBI        AAISHA RASHID GORO   \n",
       "3  KENYA MEDICAL TRAINING COLLEGE  ABADISHUKRI SUBANE BULLE   \n",
       "4  KENYA MEDICAL TRAINING COLLEGE             ABAN NUR DAUD   \n",
       "5        SANKURI SECONDARY SCHOOL         ABAS MOHAMED ALIO   \n",
       "\n",
       "              Adm No.  Amount           Ward  \n",
       "#                                             \n",
       "1    EICI/03516P/2020   10000  LIBEHIYA WARD  \n",
       "2       COI/5919/2022   24000     NEBOI WARD  \n",
       "3  D/PHARM/22018/1032   10000    ARABIA WARD  \n",
       "4      NURS/22062/907   10000  LIBEHIYA WARD  \n",
       "5                3218   25000    KuTULO WARD  "
      ]
     },
     "execution_count": 4,
     "metadata": {},
     "output_type": "execute_result"
    }
   ],
   "source": [
    "#set the '#' column as the index\n",
    "Bursary = pd.read_excel('All-Beneficiaries-Report (2).xlsx')\n",
    "Bursary.set_index('#', inplace =  True)\n",
    "Bursary.head()"
   ]
  },
  {
   "cell_type": "markdown",
   "id": "bc2af540-657a-4366-9069-627b576ffeea",
   "metadata": {},
   "source": [
    "## Total amounts allocated"
   ]
  },
  {
   "cell_type": "code",
   "execution_count": 5,
   "id": "d9f56f27-81bc-4db1-81e3-5c98192882ef",
   "metadata": {},
   "outputs": [
    {
     "data": {
      "text/plain": [
       "60000000"
      ]
     },
     "execution_count": 5,
     "metadata": {},
     "output_type": "execute_result"
    }
   ],
   "source": [
    "Bursary['Amount'].sum()"
   ]
  },
  {
   "cell_type": "markdown",
   "id": "045d666c-5b2a-40a3-9965-9f1fc49ed480",
   "metadata": {},
   "source": [
    "### Top 20 students awarded the highest amount"
   ]
  },
  {
   "cell_type": "code",
   "execution_count": 6,
   "id": "f3c627de-552b-42e8-84ee-3db03f3146f1",
   "metadata": {
    "scrolled": true
   },
   "outputs": [
    {
     "data": {
      "text/html": [
       "<div>\n",
       "<style scoped>\n",
       "    .dataframe tbody tr th:only-of-type {\n",
       "        vertical-align: middle;\n",
       "    }\n",
       "\n",
       "    .dataframe tbody tr th {\n",
       "        vertical-align: top;\n",
       "    }\n",
       "\n",
       "    .dataframe thead th {\n",
       "        text-align: right;\n",
       "    }\n",
       "</style>\n",
       "<table border=\"1\" class=\"dataframe\">\n",
       "  <thead>\n",
       "    <tr style=\"text-align: right;\">\n",
       "      <th></th>\n",
       "      <th>Institution</th>\n",
       "      <th>Student Names</th>\n",
       "      <th>Adm No.</th>\n",
       "      <th>Amount</th>\n",
       "      <th>Ward</th>\n",
       "    </tr>\n",
       "    <tr>\n",
       "      <th>#</th>\n",
       "      <th></th>\n",
       "      <th></th>\n",
       "      <th></th>\n",
       "      <th></th>\n",
       "      <th></th>\n",
       "    </tr>\n",
       "  </thead>\n",
       "  <tbody>\n",
       "    <tr>\n",
       "      <th>323</th>\n",
       "      <td>KING CEASOR UNIVERSITY</td>\n",
       "      <td>ABDIFATAH MOHAMED AHMED</td>\n",
       "      <td>2023J/MBCHB/1101</td>\n",
       "      <td>150000</td>\n",
       "      <td>KuTULO WARD</td>\n",
       "    </tr>\n",
       "    <tr>\n",
       "      <th>2719</th>\n",
       "      <td>UNIVERSITY OF NAIROBI</td>\n",
       "      <td>HALIMA ADAN ADANNOW</td>\n",
       "      <td>H31/144095/2022</td>\n",
       "      <td>100000</td>\n",
       "      <td>SHIMBIR FATUMA WARD</td>\n",
       "    </tr>\n",
       "    <tr>\n",
       "      <th>5491</th>\n",
       "      <td>LUKENYA UNIVERSITY</td>\n",
       "      <td>SAHARA MOHAMED NOOR</td>\n",
       "      <td>MED/02/6287-SBA/2023</td>\n",
       "      <td>60000</td>\n",
       "      <td>NEBOI WARD</td>\n",
       "    </tr>\n",
       "    <tr>\n",
       "      <th>3222</th>\n",
       "      <td>UNIVERSITY OF NAIROBI</td>\n",
       "      <td>HUTHEIFA ALI MOHAMED</td>\n",
       "      <td>U29/142099/2021</td>\n",
       "      <td>60000</td>\n",
       "      <td>RHAMU WARD</td>\n",
       "    </tr>\n",
       "    <tr>\n",
       "      <th>4447</th>\n",
       "      <td>MOUNT KENYA UNIVERSITY</td>\n",
       "      <td>MOHAMED ISSACK ADAN</td>\n",
       "      <td>BEPO/2021/82539</td>\n",
       "      <td>55000</td>\n",
       "      <td>NEBOI WARD</td>\n",
       "    </tr>\n",
       "    <tr>\n",
       "      <th>2604</th>\n",
       "      <td>UNIVERSITY OF NAIROBI</td>\n",
       "      <td>FIRDOSA RASHID GORO</td>\n",
       "      <td>COI/1011/2022</td>\n",
       "      <td>54000</td>\n",
       "      <td>NEBOI WARD</td>\n",
       "    </tr>\n",
       "    <tr>\n",
       "      <th>2318</th>\n",
       "      <td>KENYA MEDICAL TRAINING COLLEGE</td>\n",
       "      <td>DIKAYA ADAN ALIO</td>\n",
       "      <td>D/MIS/22021/137</td>\n",
       "      <td>50000</td>\n",
       "      <td>NEBOI WARD</td>\n",
       "    </tr>\n",
       "    <tr>\n",
       "      <th>2812</th>\n",
       "      <td>KENYATTA UNIVERSITY</td>\n",
       "      <td>HAMZA ISSAK HUSSEIN</td>\n",
       "      <td>U100/15452/2023</td>\n",
       "      <td>50000</td>\n",
       "      <td>KHALALIO WARD</td>\n",
       "    </tr>\n",
       "    <tr>\n",
       "      <th>6012</th>\n",
       "      <td>JOMO KENYATTA UNIVERSITY OF AGRICULTURE &amp; TECH...</td>\n",
       "      <td>YASMIN ABDIKANI DAKANE</td>\n",
       "      <td>HSP201-0098/2023</td>\n",
       "      <td>50000</td>\n",
       "      <td>NEBOI WARD</td>\n",
       "    </tr>\n",
       "    <tr>\n",
       "      <th>1077</th>\n",
       "      <td>MOUNT KENYA UNIVERSITY</td>\n",
       "      <td>ABDISHUKRI MOHAMED YUSSUF</td>\n",
       "      <td>BEDA/2023/48569</td>\n",
       "      <td>50000</td>\n",
       "      <td>KHALALIO WARD</td>\n",
       "    </tr>\n",
       "    <tr>\n",
       "      <th>951</th>\n",
       "      <td>UZIMA UNIVERSITY</td>\n",
       "      <td>ABDIRISAK ISSACK MOHAMED</td>\n",
       "      <td>KUADM/0697/UMB/17-A/118</td>\n",
       "      <td>50000</td>\n",
       "      <td>NEBOI WARD</td>\n",
       "    </tr>\n",
       "    <tr>\n",
       "      <th>6188</th>\n",
       "      <td>ISLAMIC UNIVERSITY IN UGANDA</td>\n",
       "      <td>ZAKARIA MOHAMED ISSACK</td>\n",
       "      <td>221-083011-22900</td>\n",
       "      <td>50000</td>\n",
       "      <td>NEBOI WARD</td>\n",
       "    </tr>\n",
       "    <tr>\n",
       "      <th>1130</th>\n",
       "      <td>MOUNT KENYA UNIVERSITY</td>\n",
       "      <td>ABDIWALI HUSSEIN MADEY SAGAR</td>\n",
       "      <td>BEDA/2022/56764</td>\n",
       "      <td>50000</td>\n",
       "      <td>TOWNSHIP WARD</td>\n",
       "    </tr>\n",
       "    <tr>\n",
       "      <th>4858</th>\n",
       "      <td>KENYATTA UNIVERSITY</td>\n",
       "      <td>MUZAMIL MOHAMED HAJJ</td>\n",
       "      <td>P295/16831/2023</td>\n",
       "      <td>50000</td>\n",
       "      <td>WARGADUD WARD</td>\n",
       "    </tr>\n",
       "    <tr>\n",
       "      <th>5939</th>\n",
       "      <td>KENYATTA UNIVERSITY</td>\n",
       "      <td>UMULKHEIR BISHAR</td>\n",
       "      <td>D33/7449/2021</td>\n",
       "      <td>50000</td>\n",
       "      <td>NEBOI WARD</td>\n",
       "    </tr>\n",
       "    <tr>\n",
       "      <th>3903</th>\n",
       "      <td>UNIVERSITY OF NAIROBI</td>\n",
       "      <td>KHEIRA JELLE AHMED</td>\n",
       "      <td>G34/144343/2022</td>\n",
       "      <td>50000</td>\n",
       "      <td>LAFEY WARD</td>\n",
       "    </tr>\n",
       "    <tr>\n",
       "      <th>765</th>\n",
       "      <td>UNIVERSITY OF NAIROBI</td>\n",
       "      <td>ABDIRAHAMAN BISHAR ISSACK</td>\n",
       "      <td>H31/1767/2020</td>\n",
       "      <td>50000</td>\n",
       "      <td>NEBOI WARD</td>\n",
       "    </tr>\n",
       "    <tr>\n",
       "      <th>1927</th>\n",
       "      <td>KENYA MEDICAL TRAINING COLLEGE</td>\n",
       "      <td>ALINOOR IBRAHIM ROBOW</td>\n",
       "      <td>D/PHARM/23034/374</td>\n",
       "      <td>45000</td>\n",
       "      <td>KHALALIO WARD</td>\n",
       "    </tr>\n",
       "    <tr>\n",
       "      <th>5464</th>\n",
       "      <td>MOUNT KENYA UNIVERSITY</td>\n",
       "      <td>SAFIA BISHAR GULLEYE</td>\n",
       "      <td>BEDA/2023/43431</td>\n",
       "      <td>41000</td>\n",
       "      <td>NEBOI WARD</td>\n",
       "    </tr>\n",
       "    <tr>\n",
       "      <th>3942</th>\n",
       "      <td>DOMBOSCO SECONDARY SCHOOL</td>\n",
       "      <td>LEYLA ADAN MOHMAED</td>\n",
       "      <td>3184</td>\n",
       "      <td>40000</td>\n",
       "      <td>RHAMU WARD</td>\n",
       "    </tr>\n",
       "  </tbody>\n",
       "</table>\n",
       "</div>"
      ],
      "text/plain": [
       "                                            Institution  \\\n",
       "#                                                         \n",
       "323                              KING CEASOR UNIVERSITY   \n",
       "2719                              UNIVERSITY OF NAIROBI   \n",
       "5491                                 LUKENYA UNIVERSITY   \n",
       "3222                              UNIVERSITY OF NAIROBI   \n",
       "4447                             MOUNT KENYA UNIVERSITY   \n",
       "2604                              UNIVERSITY OF NAIROBI   \n",
       "2318                     KENYA MEDICAL TRAINING COLLEGE   \n",
       "2812                                KENYATTA UNIVERSITY   \n",
       "6012  JOMO KENYATTA UNIVERSITY OF AGRICULTURE & TECH...   \n",
       "1077                             MOUNT KENYA UNIVERSITY   \n",
       "951                                    UZIMA UNIVERSITY   \n",
       "6188                       ISLAMIC UNIVERSITY IN UGANDA   \n",
       "1130                             MOUNT KENYA UNIVERSITY   \n",
       "4858                                KENYATTA UNIVERSITY   \n",
       "5939                                KENYATTA UNIVERSITY   \n",
       "3903                              UNIVERSITY OF NAIROBI   \n",
       "765                               UNIVERSITY OF NAIROBI   \n",
       "1927                     KENYA MEDICAL TRAINING COLLEGE   \n",
       "5464                             MOUNT KENYA UNIVERSITY   \n",
       "3942                          DOMBOSCO SECONDARY SCHOOL   \n",
       "\n",
       "                     Student Names                  Adm No.  Amount  \\\n",
       "#                                                                     \n",
       "323        ABDIFATAH MOHAMED AHMED         2023J/MBCHB/1101  150000   \n",
       "2719           HALIMA ADAN ADANNOW          H31/144095/2022  100000   \n",
       "5491           SAHARA MOHAMED NOOR     MED/02/6287-SBA/2023   60000   \n",
       "3222          HUTHEIFA ALI MOHAMED          U29/142099/2021   60000   \n",
       "4447           MOHAMED ISSACK ADAN          BEPO/2021/82539   55000   \n",
       "2604           FIRDOSA RASHID GORO            COI/1011/2022   54000   \n",
       "2318              DIKAYA ADAN ALIO          D/MIS/22021/137   50000   \n",
       "2812           HAMZA ISSAK HUSSEIN          U100/15452/2023   50000   \n",
       "6012        YASMIN ABDIKANI DAKANE         HSP201-0098/2023   50000   \n",
       "1077     ABDISHUKRI MOHAMED YUSSUF          BEDA/2023/48569   50000   \n",
       "951       ABDIRISAK ISSACK MOHAMED  KUADM/0697/UMB/17-A/118   50000   \n",
       "6188        ZAKARIA MOHAMED ISSACK         221-083011-22900   50000   \n",
       "1130  ABDIWALI HUSSEIN MADEY SAGAR          BEDA/2022/56764   50000   \n",
       "4858          MUZAMIL MOHAMED HAJJ          P295/16831/2023   50000   \n",
       "5939              UMULKHEIR BISHAR            D33/7449/2021   50000   \n",
       "3903            KHEIRA JELLE AHMED          G34/144343/2022   50000   \n",
       "765      ABDIRAHAMAN BISHAR ISSACK            H31/1767/2020   50000   \n",
       "1927         ALINOOR IBRAHIM ROBOW        D/PHARM/23034/374   45000   \n",
       "5464          SAFIA BISHAR GULLEYE          BEDA/2023/43431   41000   \n",
       "3942            LEYLA ADAN MOHMAED                     3184   40000   \n",
       "\n",
       "                     Ward  \n",
       "#                          \n",
       "323           KuTULO WARD  \n",
       "2719  SHIMBIR FATUMA WARD  \n",
       "5491           NEBOI WARD  \n",
       "3222           RHAMU WARD  \n",
       "4447           NEBOI WARD  \n",
       "2604           NEBOI WARD  \n",
       "2318           NEBOI WARD  \n",
       "2812        KHALALIO WARD  \n",
       "6012           NEBOI WARD  \n",
       "1077        KHALALIO WARD  \n",
       "951            NEBOI WARD  \n",
       "6188           NEBOI WARD  \n",
       "1130        TOWNSHIP WARD  \n",
       "4858        WARGADUD WARD  \n",
       "5939           NEBOI WARD  \n",
       "3903           LAFEY WARD  \n",
       "765            NEBOI WARD  \n",
       "1927        KHALALIO WARD  \n",
       "5464           NEBOI WARD  \n",
       "3942           RHAMU WARD  "
      ]
     },
     "execution_count": 6,
     "metadata": {},
     "output_type": "execute_result"
    }
   ],
   "source": [
    "Bursary.sort_values('Amount', ascending=False).head(20)"
   ]
  },
  {
   "cell_type": "markdown",
   "id": "f57be35b-58f0-4527-88cf-0dffb0c9baf8",
   "metadata": {},
   "source": [
    "### which student got the highest amount? "
   ]
  },
  {
   "cell_type": "code",
   "execution_count": 7,
   "id": "c27f4130-d1fa-4c38-ade1-74ef512bbb48",
   "metadata": {},
   "outputs": [
    {
     "data": {
      "text/html": [
       "<div>\n",
       "<style scoped>\n",
       "    .dataframe tbody tr th:only-of-type {\n",
       "        vertical-align: middle;\n",
       "    }\n",
       "\n",
       "    .dataframe tbody tr th {\n",
       "        vertical-align: top;\n",
       "    }\n",
       "\n",
       "    .dataframe thead th {\n",
       "        text-align: right;\n",
       "    }\n",
       "</style>\n",
       "<table border=\"1\" class=\"dataframe\">\n",
       "  <thead>\n",
       "    <tr style=\"text-align: right;\">\n",
       "      <th></th>\n",
       "      <th>Institution</th>\n",
       "      <th>Student Names</th>\n",
       "      <th>Adm No.</th>\n",
       "      <th>Amount</th>\n",
       "      <th>Ward</th>\n",
       "    </tr>\n",
       "    <tr>\n",
       "      <th>#</th>\n",
       "      <th></th>\n",
       "      <th></th>\n",
       "      <th></th>\n",
       "      <th></th>\n",
       "      <th></th>\n",
       "    </tr>\n",
       "  </thead>\n",
       "  <tbody>\n",
       "    <tr>\n",
       "      <th>323</th>\n",
       "      <td>KING CEASOR UNIVERSITY</td>\n",
       "      <td>ABDIFATAH MOHAMED AHMED</td>\n",
       "      <td>2023J/MBCHB/1101</td>\n",
       "      <td>150000</td>\n",
       "      <td>KuTULO WARD</td>\n",
       "    </tr>\n",
       "  </tbody>\n",
       "</table>\n",
       "</div>"
      ],
      "text/plain": [
       "                Institution            Student Names           Adm No.  \\\n",
       "#                                                                        \n",
       "323  KING CEASOR UNIVERSITY  ABDIFATAH MOHAMED AHMED  2023J/MBCHB/1101   \n",
       "\n",
       "     Amount         Ward  \n",
       "#                         \n",
       "323  150000  KuTULO WARD  "
      ]
     },
     "execution_count": 7,
     "metadata": {},
     "output_type": "execute_result"
    }
   ],
   "source": [
    "Bursary.loc[(Bursary['Amount']==  Bursary['Amount'].max())]"
   ]
  },
  {
   "cell_type": "markdown",
   "id": "9cdc53ea-21fc-4b94-a5e8-ca0da99f02ae",
   "metadata": {},
   "source": [
    "### which students awarded the lowest amount?"
   ]
  },
  {
   "cell_type": "code",
   "execution_count": 8,
   "id": "251ea417-6d87-4ee6-9aa9-6c7778cb5737",
   "metadata": {},
   "outputs": [
    {
     "data": {
      "text/html": [
       "<div>\n",
       "<style scoped>\n",
       "    .dataframe tbody tr th:only-of-type {\n",
       "        vertical-align: middle;\n",
       "    }\n",
       "\n",
       "    .dataframe tbody tr th {\n",
       "        vertical-align: top;\n",
       "    }\n",
       "\n",
       "    .dataframe thead th {\n",
       "        text-align: right;\n",
       "    }\n",
       "</style>\n",
       "<table border=\"1\" class=\"dataframe\">\n",
       "  <thead>\n",
       "    <tr style=\"text-align: right;\">\n",
       "      <th></th>\n",
       "      <th>Institution</th>\n",
       "      <th>Student Names</th>\n",
       "      <th>Adm No.</th>\n",
       "      <th>Amount</th>\n",
       "      <th>Ward</th>\n",
       "    </tr>\n",
       "    <tr>\n",
       "      <th>#</th>\n",
       "      <th></th>\n",
       "      <th></th>\n",
       "      <th></th>\n",
       "      <th></th>\n",
       "      <th></th>\n",
       "    </tr>\n",
       "  </thead>\n",
       "  <tbody>\n",
       "    <tr>\n",
       "      <th>634</th>\n",
       "      <td>MOUNT KENYA UNIVERSITY</td>\n",
       "      <td>ABDIMATIN NUROW ADAN</td>\n",
       "      <td>BAPA/2023/50871</td>\n",
       "      <td>1000</td>\n",
       "      <td>TAKABA WARD</td>\n",
       "    </tr>\n",
       "    <tr>\n",
       "      <th>3030</th>\n",
       "      <td>KENYA MEDICAL TRAINING COLLEGE</td>\n",
       "      <td>HASSAN SHEIKH DAHIR</td>\n",
       "      <td>D/NURS/20039/3543</td>\n",
       "      <td>1000</td>\n",
       "      <td>BANISA WARD</td>\n",
       "    </tr>\n",
       "    <tr>\n",
       "      <th>3684</th>\n",
       "      <td>MOUNT KENYA UNIVERSITY</td>\n",
       "      <td>ISSACK YUSSUF ABDI</td>\n",
       "      <td>BEDA/2023/37917</td>\n",
       "      <td>1000</td>\n",
       "      <td>BANISA WARD</td>\n",
       "    </tr>\n",
       "  </tbody>\n",
       "</table>\n",
       "</div>"
      ],
      "text/plain": [
       "                         Institution         Student Names            Adm No.  \\\n",
       "#                                                                               \n",
       "634           MOUNT KENYA UNIVERSITY  ABDIMATIN NUROW ADAN    BAPA/2023/50871   \n",
       "3030  KENYA MEDICAL TRAINING COLLEGE   HASSAN SHEIKH DAHIR  D/NURS/20039/3543   \n",
       "3684          MOUNT KENYA UNIVERSITY    ISSACK YUSSUF ABDI    BEDA/2023/37917   \n",
       "\n",
       "      Amount         Ward  \n",
       "#                          \n",
       "634     1000  TAKABA WARD  \n",
       "3030    1000  BANISA WARD  \n",
       "3684    1000  BANISA WARD  "
      ]
     },
     "execution_count": 8,
     "metadata": {},
     "output_type": "execute_result"
    }
   ],
   "source": [
    "Bursary.loc[(Bursary['Amount']==  Bursary['Amount'].min())]"
   ]
  },
  {
   "cell_type": "markdown",
   "id": "b13ed260-d42c-4074-9d2c-16ab3c7f112c",
   "metadata": {},
   "source": [
    "### How many wards benefitted?"
   ]
  },
  {
   "cell_type": "code",
   "execution_count": 9,
   "id": "3466a6dc-68c5-45ec-9af6-90fbbbf6fde4",
   "metadata": {},
   "outputs": [
    {
     "data": {
      "text/plain": [
       "30"
      ]
     },
     "execution_count": 9,
     "metadata": {},
     "output_type": "execute_result"
    }
   ],
   "source": [
    "Bursary['Ward'].value_counts().count() # there are 30 wards in Mandera county"
   ]
  },
  {
   "cell_type": "markdown",
   "id": "704b8e41-3e1e-4eb4-b20f-1cd6d76fc3d6",
   "metadata": {},
   "source": [
    "### What is the total amounts allocated to each ward?"
   ]
  },
  {
   "cell_type": "code",
   "execution_count": 10,
   "id": "d7eb719e-cfb9-489b-aaa6-a14ab9ca6711",
   "metadata": {
    "scrolled": true
   },
   "outputs": [
    {
     "data": {
      "text/plain": [
       "Ward\n",
       "SALA WARD               658000\n",
       "FINO WARD               850000\n",
       "MAROTHILE WARD          867525\n",
       "ALUNGU WARD             958000\n",
       "WARANKARA WARD         1326224\n",
       "DERKALE WARD           1363000\n",
       "GUBA WARD              1381950\n",
       "LIBEHIYA WARD          1389975\n",
       "ARABIA WARD            1484656\n",
       "ELWAK NORTH WARD       1546035\n",
       "DANDU WARD             1570605\n",
       "TAKABA SOUTH WARD      1570881\n",
       "MALKAMARI WARD         1590809\n",
       "LAGSURE WARD           1634026\n",
       "WARGADUD WARD          1642704\n",
       "GITHER WARD            1812319\n",
       "GUTICHA WARD           1815000\n",
       "KHALALIO WARD          1887243\n",
       "TAKABA WARD            2013135\n",
       "ASHABITO WARD          2032524\n",
       "LAFEY WARD             2309000\n",
       "SHIMBIR FATUMA WARD    2310551\n",
       "RHAMU DIMTU WARD       2417266\n",
       "BANISA WARD            2451541\n",
       "KILIWEHIRI WARD        2468979\n",
       "RHAMU WARD             3371850\n",
       "TOWNSHIP WARD          3528000\n",
       "KuTULO WARD            3688626\n",
       "ELWAK SOUTH WARD       3926076\n",
       "NEBOI WARD             4133500\n",
       "Name: Amount, dtype: int64"
      ]
     },
     "execution_count": 10,
     "metadata": {},
     "output_type": "execute_result"
    }
   ],
   "source": [
    "Bursary.groupby('Ward')['Amount'].sum().sort_values()"
   ]
  },
  {
   "cell_type": "markdown",
   "id": "cb7796df-7cf9-4e9d-945f-9da503b6fc8d",
   "metadata": {},
   "source": [
    "### Total number of students and the **Total Amounts** per ward "
   ]
  },
  {
   "cell_type": "code",
   "execution_count": 60,
   "id": "913c4081-871f-45fa-bfbd-fd13d398d429",
   "metadata": {
    "scrolled": true
   },
   "outputs": [
    {
     "data": {
      "text/html": [
       "<div>\n",
       "<style scoped>\n",
       "    .dataframe tbody tr th:only-of-type {\n",
       "        vertical-align: middle;\n",
       "    }\n",
       "\n",
       "    .dataframe tbody tr th {\n",
       "        vertical-align: top;\n",
       "    }\n",
       "\n",
       "    .dataframe thead th {\n",
       "        text-align: right;\n",
       "    }\n",
       "</style>\n",
       "<table border=\"1\" class=\"dataframe\">\n",
       "  <thead>\n",
       "    <tr style=\"text-align: right;\">\n",
       "      <th></th>\n",
       "      <th>Number of Student</th>\n",
       "      <th>Amount</th>\n",
       "    </tr>\n",
       "    <tr>\n",
       "      <th>Ward</th>\n",
       "      <th></th>\n",
       "      <th></th>\n",
       "    </tr>\n",
       "  </thead>\n",
       "  <tbody>\n",
       "    <tr>\n",
       "      <th>SALA WARD</th>\n",
       "      <td>61</td>\n",
       "      <td>658000</td>\n",
       "    </tr>\n",
       "    <tr>\n",
       "      <th>FINO WARD</th>\n",
       "      <td>67</td>\n",
       "      <td>850000</td>\n",
       "    </tr>\n",
       "    <tr>\n",
       "      <th>MAROTHILE WARD</th>\n",
       "      <td>118</td>\n",
       "      <td>867525</td>\n",
       "    </tr>\n",
       "    <tr>\n",
       "      <th>ALUNGU WARD</th>\n",
       "      <td>86</td>\n",
       "      <td>958000</td>\n",
       "    </tr>\n",
       "    <tr>\n",
       "      <th>WARANKARA WARD</th>\n",
       "      <td>178</td>\n",
       "      <td>1326224</td>\n",
       "    </tr>\n",
       "    <tr>\n",
       "      <th>DERKALE WARD</th>\n",
       "      <td>136</td>\n",
       "      <td>1363000</td>\n",
       "    </tr>\n",
       "    <tr>\n",
       "      <th>GUBA WARD</th>\n",
       "      <td>129</td>\n",
       "      <td>1381950</td>\n",
       "    </tr>\n",
       "    <tr>\n",
       "      <th>LIBEHIYA WARD</th>\n",
       "      <td>129</td>\n",
       "      <td>1389975</td>\n",
       "    </tr>\n",
       "    <tr>\n",
       "      <th>ARABIA WARD</th>\n",
       "      <td>175</td>\n",
       "      <td>1484656</td>\n",
       "    </tr>\n",
       "    <tr>\n",
       "      <th>ELWAK NORTH WARD</th>\n",
       "      <td>212</td>\n",
       "      <td>1546035</td>\n",
       "    </tr>\n",
       "    <tr>\n",
       "      <th>DANDU WARD</th>\n",
       "      <td>142</td>\n",
       "      <td>1570605</td>\n",
       "    </tr>\n",
       "    <tr>\n",
       "      <th>TAKABA SOUTH WARD</th>\n",
       "      <td>226</td>\n",
       "      <td>1570881</td>\n",
       "    </tr>\n",
       "    <tr>\n",
       "      <th>MALKAMARI WARD</th>\n",
       "      <td>128</td>\n",
       "      <td>1590809</td>\n",
       "    </tr>\n",
       "    <tr>\n",
       "      <th>LAGSURE WARD</th>\n",
       "      <td>182</td>\n",
       "      <td>1634026</td>\n",
       "    </tr>\n",
       "    <tr>\n",
       "      <th>WARGADUD WARD</th>\n",
       "      <td>167</td>\n",
       "      <td>1642704</td>\n",
       "    </tr>\n",
       "    <tr>\n",
       "      <th>GITHER WARD</th>\n",
       "      <td>170</td>\n",
       "      <td>1812319</td>\n",
       "    </tr>\n",
       "    <tr>\n",
       "      <th>GUTICHA WARD</th>\n",
       "      <td>207</td>\n",
       "      <td>1815000</td>\n",
       "    </tr>\n",
       "    <tr>\n",
       "      <th>KHALALIO WARD</th>\n",
       "      <td>141</td>\n",
       "      <td>1887243</td>\n",
       "    </tr>\n",
       "    <tr>\n",
       "      <th>TAKABA WARD</th>\n",
       "      <td>233</td>\n",
       "      <td>2013135</td>\n",
       "    </tr>\n",
       "    <tr>\n",
       "      <th>ASHABITO WARD</th>\n",
       "      <td>246</td>\n",
       "      <td>2032524</td>\n",
       "    </tr>\n",
       "    <tr>\n",
       "      <th>LAFEY WARD</th>\n",
       "      <td>182</td>\n",
       "      <td>2309000</td>\n",
       "    </tr>\n",
       "    <tr>\n",
       "      <th>SHIMBIR FATUMA WARD</th>\n",
       "      <td>206</td>\n",
       "      <td>2310551</td>\n",
       "    </tr>\n",
       "    <tr>\n",
       "      <th>RHAMU DIMTU WARD</th>\n",
       "      <td>329</td>\n",
       "      <td>2417266</td>\n",
       "    </tr>\n",
       "    <tr>\n",
       "      <th>BANISA WARD</th>\n",
       "      <td>295</td>\n",
       "      <td>2451541</td>\n",
       "    </tr>\n",
       "    <tr>\n",
       "      <th>KILIWEHIRI WARD</th>\n",
       "      <td>228</td>\n",
       "      <td>2468979</td>\n",
       "    </tr>\n",
       "    <tr>\n",
       "      <th>RHAMU WARD</th>\n",
       "      <td>442</td>\n",
       "      <td>3371850</td>\n",
       "    </tr>\n",
       "    <tr>\n",
       "      <th>TOWNSHIP WARD</th>\n",
       "      <td>307</td>\n",
       "      <td>3528000</td>\n",
       "    </tr>\n",
       "    <tr>\n",
       "      <th>KuTULO WARD</th>\n",
       "      <td>443</td>\n",
       "      <td>3688626</td>\n",
       "    </tr>\n",
       "    <tr>\n",
       "      <th>ELWAK SOUTH WARD</th>\n",
       "      <td>474</td>\n",
       "      <td>3926076</td>\n",
       "    </tr>\n",
       "    <tr>\n",
       "      <th>NEBOI WARD</th>\n",
       "      <td>282</td>\n",
       "      <td>4133500</td>\n",
       "    </tr>\n",
       "  </tbody>\n",
       "</table>\n",
       "</div>"
      ],
      "text/plain": [
       "                     Number of Student   Amount\n",
       "Ward                                           \n",
       "SALA WARD                           61   658000\n",
       "FINO WARD                           67   850000\n",
       "MAROTHILE WARD                     118   867525\n",
       "ALUNGU WARD                         86   958000\n",
       "WARANKARA WARD                     178  1326224\n",
       "DERKALE WARD                       136  1363000\n",
       "GUBA WARD                          129  1381950\n",
       "LIBEHIYA WARD                      129  1389975\n",
       "ARABIA WARD                        175  1484656\n",
       "ELWAK NORTH WARD                   212  1546035\n",
       "DANDU WARD                         142  1570605\n",
       "TAKABA SOUTH WARD                  226  1570881\n",
       "MALKAMARI WARD                     128  1590809\n",
       "LAGSURE WARD                       182  1634026\n",
       "WARGADUD WARD                      167  1642704\n",
       "GITHER WARD                        170  1812319\n",
       "GUTICHA WARD                       207  1815000\n",
       "KHALALIO WARD                      141  1887243\n",
       "TAKABA WARD                        233  2013135\n",
       "ASHABITO WARD                      246  2032524\n",
       "LAFEY WARD                         182  2309000\n",
       "SHIMBIR FATUMA WARD                206  2310551\n",
       "RHAMU DIMTU WARD                   329  2417266\n",
       "BANISA WARD                        295  2451541\n",
       "KILIWEHIRI WARD                    228  2468979\n",
       "RHAMU WARD                         442  3371850\n",
       "TOWNSHIP WARD                      307  3528000\n",
       "KuTULO WARD                        443  3688626\n",
       "ELWAK SOUTH WARD                   474  3926076\n",
       "NEBOI WARD                         282  4133500"
      ]
     },
     "execution_count": 60,
     "metadata": {},
     "output_type": "execute_result"
    }
   ],
   "source": [
    "\n",
    "Totals_per_Ward= Bursary.groupby('Ward')['Amount'].sum()\n",
    "std_per_ward= Bursary['Ward'].value_counts()\n",
    "Per_ward=pd.concat([std_per_ward,Totals_per_Ward],axis=1)\n",
    "\n",
    "Per_ward.rename(columns= {'count':'Number of Student'}, inplace = True)\n",
    "Concat.sort_values('Amount')\n",
    "\n"
   ]
  },
  {
   "cell_type": "code",
   "execution_count": 61,
   "id": "2171862e-66e7-45fe-b274-41e384bcdf48",
   "metadata": {},
   "outputs": [
    {
     "data": {
      "image/png": "[encoded data removed]",
      "text/plain": [
       "<Figure size 2000x1000 with 2 Axes>"
      ]
     },
     "metadata": {},
     "output_type": "display_data"
    }
   ],
   "source": [
    "fig, ax1 = plt.subplots(figsize=(20, 10))\n",
    "\n",
    "# Bar plot for Number of Students\n",
    "ax1.bar(Concat_sorted.index, Concat_sorted[\"Number of Student\"], color=\"skyblue\", label=\"Number of Students\")\n",
    "ax1.set_xlabel(\"Ward\", fontsize=14)\n",
    "ax1.set_ylabel(\"Number of Students\", fontsize=14, color=\"blue\")\n",
    "ax1.tick_params(axis=\"y\", labelcolor=\"blue\")\n",
    "ax1.set_xticks(range(len(Concat_sorted.index)))\n",
    "ax1.set_xticklabels(Concat_sorted.index, rotation=90)\n",
    "\n",
    "# Line plot for Amount\n",
    "ax2 = ax1.twinx()\n",
    "ax2.plot(Concat_sorted.index, Concat_sorted[\"Amount\"], color=\"green\", marker=\"o\", label=\"Amount\")\n",
    "ax2.set_ylabel(\"Total Amount (in Millions)\", fontsize=14, color=\"green\")\n",
    "ax2.tick_params(axis=\"y\", labelcolor=\"green\")\n",
    "\n",
    "plt.title(\"Number of Students and Total Amount by Ward\", fontsize=16)\n",
    "plt.tight_layout()\n",
    "plt.show()\n"
   ]
  },
  {
   "cell_type": "markdown",
   "id": "c24cdd9f-e29b-41c0-aa06-9131e798bb22",
   "metadata": {},
   "source": [
    "#### Number of Students per ward"
   ]
  },
  {
   "cell_type": "code",
   "execution_count": 47,
   "id": "be202bfa-f55b-40f4-b189-65399dcea2c0",
   "metadata": {},
   "outputs": [
    {
     "data": {
      "image/png": "[encoded data removed]",
      "text/plain": [
       "<Figure size 2000x1000 with 1 Axes>"
      ]
     },
     "metadata": {},
     "output_type": "display_data"
    }
   ],
   "source": [
    "Number_of_Beneficiaries = Bursary.Ward.value_counts()\n",
    "\n",
    "# Plot a bar chart for Number of Students\n",
    "\n",
    "Number_of_Beneficiaries.plot(kind=\"bar\",figsize=(20, 10), color=\"lime\")\n",
    "plt.title(\"Number of Students per Ward\", fontsize=16)\n",
    "plt.xlabel(\"Ward\", fontsize=14)\n",
    "plt.ylabel(\"Number of Students\", fontsize=14)\n",
    "plt.show()\n",
    "\n"
   ]
  },
  {
   "cell_type": "markdown",
   "id": "a5e50d63-0f36-4ad4-b485-b3b202f6a6db",
   "metadata": {},
   "source": [
    "### Total number of Insitutions"
   ]
  },
  {
   "cell_type": "code",
   "execution_count": 16,
   "id": "d902828b-d808-4699-8837-de015ea74a54",
   "metadata": {},
   "outputs": [
    {
     "data": {
      "text/plain": [
       "372"
      ]
     },
     "execution_count": 16,
     "metadata": {},
     "output_type": "execute_result"
    }
   ],
   "source": [
    "Bursary['Institution'].value_counts().count() "
   ]
  },
  {
   "cell_type": "markdown",
   "id": "2113984b-af26-4678-ad03-8c22e8e6d186",
   "metadata": {},
   "source": [
    "#### Top 20 institutions with the highest number of beneficieries"
   ]
  },
  {
   "cell_type": "code",
   "execution_count": 17,
   "id": "ea747aba-bb39-483f-b79c-c24751f0cb8e",
   "metadata": {
    "scrolled": true
   },
   "outputs": [
    {
     "data": {
      "text/plain": [
       "Institution\n",
       "MOUNT KENYA UNIVERSITY                                   2046\n",
       "KENYA MEDICAL TRAINING COLLEGE                           1094\n",
       "KENYA METHODIST UNIVERSITY                                213\n",
       "MANDERA TECHNICAL TRAINING INSTITUTE                      206\n",
       "UMMA UNIVERSITY                                           182\n",
       "UNIVERSITY OF NAIROBI                                     152\n",
       "LUKENYA UNIVERSITY                                        151\n",
       "KENYA WATER INSTITUTE                                     139\n",
       "FRONTIER INSTITUTE OF PROFESSIONAL MANAGEMENT-MANDERA     138\n",
       "MANDERA TEACHERS TRAINING COLLEGE                         129\n",
       "GARISSA UNIVERSITY                                         89\n",
       "THIKA SCHOOL OF MEDICAL AND HEALTH SCIENCE                 81\n",
       "KCA UNIVERSITY                                             78\n",
       "JOMO KENYATTA UNIVERSITY OF AGRICULTURE & TECHNOLOGY       75\n",
       "GREAT LAKES UNIVERSITY OF KISUMU                           72\n",
       "NORTH EASTERN NATIONAL POLYTECHNIC                         66\n",
       "KENYATTA UNIVERSITY                                        65\n",
       "ZETECH UNIVERSITY                                          55\n",
       "MADOGO ECDE COLLEGE                                        51\n",
       "INTERNATIONAL TEACHERS TRAINING COLLEGE                    50\n",
       "Name: count, dtype: int64"
      ]
     },
     "execution_count": 17,
     "metadata": {},
     "output_type": "execute_result"
    }
   ],
   "source": [
    "Bursary['Institution'].value_counts().head(20)"
   ]
  },
  {
   "cell_type": "markdown",
   "id": "869cbf84-3b15-4370-b8fc-97af54b7dcd7",
   "metadata": {},
   "source": [
    "### What is the highest amount awarded in each ward"
   ]
  },
  {
   "cell_type": "code",
   "execution_count": 18,
   "id": "5722a68a-4fb3-421d-83ad-10cf78e3c906",
   "metadata": {
    "scrolled": true
   },
   "outputs": [
    {
     "data": {
      "text/plain": [
       "Ward\n",
       "GUBA WARD               21950\n",
       "GITHER WARD             22000\n",
       "TAKABA SOUTH WARD       25000\n",
       "LIBEHIYA WARD           25000\n",
       "ELWAK NORTH WARD        27000\n",
       "ARABIA WARD             28000\n",
       "MALKAMARI WARD          28000\n",
       "LAGSURE WARD            28000\n",
       "GUTICHA WARD            29000\n",
       "BANISA WARD             29000\n",
       "DANDU WARD              29000\n",
       "MAROTHILE WARD          30000\n",
       "WARANKARA WARD          30000\n",
       "SALA WARD               30000\n",
       "RHAMU DIMTU WARD        30000\n",
       "DERKALE WARD            30000\n",
       "FINO WARD               35000\n",
       "ELWAK SOUTH WARD        35000\n",
       "KILIWEHIRI WARD         38000\n",
       "TAKABA WARD             39000\n",
       "ASHABITO WARD           40000\n",
       "ALUNGU WARD             40000\n",
       "TOWNSHIP WARD           50000\n",
       "WARGADUD WARD           50000\n",
       "LAFEY WARD              50000\n",
       "KHALALIO WARD           50000\n",
       "NEBOI WARD              60000\n",
       "RHAMU WARD              60000\n",
       "SHIMBIR FATUMA WARD    100000\n",
       "KuTULO WARD            150000\n",
       "Name: Amount, dtype: int64"
      ]
     },
     "execution_count": 18,
     "metadata": {},
     "output_type": "execute_result"
    }
   ],
   "source": [
    "Bursary.groupby('Ward')['Amount'].max().sort_values()"
   ]
  },
  {
   "cell_type": "markdown",
   "id": "ff8f1d00-374d-4361-8427-567ac23cde26",
   "metadata": {},
   "source": [
    "### Which amounts is most awarded to students"
   ]
  },
  {
   "cell_type": "code",
   "execution_count": 25,
   "id": "549d2e23-c1ba-4510-88ba-dd8231c3ff18",
   "metadata": {
    "scrolled": true
   },
   "outputs": [
    {
     "data": {
      "text/plain": [
       "Amount\n",
       "10000    1506\n",
       "5000     1107\n",
       "6000      913\n",
       "7000      802\n",
       "8000      313\n",
       "15000     262\n",
       "9000      199\n",
       "4000      197\n",
       "20000     176\n",
       "25000      93\n",
       "3000       79\n",
       "8500       68\n",
       "11000      59\n",
       "14000      57\n",
       "12000      53\n",
       "30000      49\n",
       "26000      49\n",
       "13000      47\n",
       "17000      42\n",
       "27000      39\n",
       "16000      25\n",
       "40000      21\n",
       "24000      19\n",
       "18000      19\n",
       "28000      14\n",
       "23000      12\n",
       "19000      11\n",
       "50000      11\n",
       "22000      10\n",
       "35000       8\n",
       "29000       4\n",
       "1000        3\n",
       "6500        3\n",
       "37000       2\n",
       "28500       2\n",
       "60000       2\n",
       "18500       2\n",
       "9500        2\n",
       "10500       1\n",
       "10135       1\n",
       "Name: count, dtype: int64"
      ]
     },
     "execution_count": 25,
     "metadata": {},
     "output_type": "execute_result"
    }
   ],
   "source": [
    "#frequency of the amounts awarded\n",
    "Amounts = Bursary.Amount.value_counts()\n",
    "Amounts.head(40)"
   ]
  },
  {
   "cell_type": "code",
   "execution_count": 19,
   "id": "079b4eb5-b51a-467b-8cbc-53f58e939db6",
   "metadata": {},
   "outputs": [
    {
     "data": {
      "text/html": [
       "<div>\n",
       "<style scoped>\n",
       "    .dataframe tbody tr th:only-of-type {\n",
       "        vertical-align: middle;\n",
       "    }\n",
       "\n",
       "    .dataframe tbody tr th {\n",
       "        vertical-align: top;\n",
       "    }\n",
       "\n",
       "    .dataframe thead th {\n",
       "        text-align: right;\n",
       "    }\n",
       "</style>\n",
       "<table border=\"1\" class=\"dataframe\">\n",
       "  <thead>\n",
       "    <tr style=\"text-align: right;\">\n",
       "      <th></th>\n",
       "      <th>Institution</th>\n",
       "      <th>Student Names</th>\n",
       "      <th>Adm No.</th>\n",
       "      <th>Amount</th>\n",
       "      <th>Ward</th>\n",
       "    </tr>\n",
       "    <tr>\n",
       "      <th>#</th>\n",
       "      <th></th>\n",
       "      <th></th>\n",
       "      <th></th>\n",
       "      <th></th>\n",
       "      <th></th>\n",
       "    </tr>\n",
       "  </thead>\n",
       "  <tbody>\n",
       "    <tr>\n",
       "      <th>2138</th>\n",
       "      <td>RONGO UNIVERSITY</td>\n",
       "      <td>Bahsan Mohamed</td>\n",
       "      <td>DIT/2022/0330</td>\n",
       "      <td>5000</td>\n",
       "      <td>ALUNGU WARD</td>\n",
       "    </tr>\n",
       "    <tr>\n",
       "      <th>2140</th>\n",
       "      <td>RONGO UNIVERSITY</td>\n",
       "      <td>BAHSAN MOHAMED JELLE</td>\n",
       "      <td>DICT/6010/2022</td>\n",
       "      <td>15000</td>\n",
       "      <td>ALUNGU WARD</td>\n",
       "    </tr>\n",
       "    <tr>\n",
       "      <th>3166</th>\n",
       "      <td>RONGO UNIVERSITY</td>\n",
       "      <td>Hussein Ibrahim Ibren</td>\n",
       "      <td>HRI/005/2022</td>\n",
       "      <td>7000</td>\n",
       "      <td>DERKALE WARD</td>\n",
       "    </tr>\n",
       "    <tr>\n",
       "      <th>3716</th>\n",
       "      <td>RONGO UNIVERSITY</td>\n",
       "      <td>JAAFAR ADAN HILLOW</td>\n",
       "      <td>HRI/014/2021</td>\n",
       "      <td>7000</td>\n",
       "      <td>DERKALE WARD</td>\n",
       "    </tr>\n",
       "  </tbody>\n",
       "</table>\n",
       "</div>"
      ],
      "text/plain": [
       "           Institution          Student Names         Adm No.  Amount  \\\n",
       "#                                                                       \n",
       "2138  RONGO UNIVERSITY         Bahsan Mohamed   DIT/2022/0330    5000   \n",
       "2140  RONGO UNIVERSITY   BAHSAN MOHAMED JELLE  DICT/6010/2022   15000   \n",
       "3166  RONGO UNIVERSITY  Hussein Ibrahim Ibren    HRI/005/2022    7000   \n",
       "3716  RONGO UNIVERSITY     JAAFAR ADAN HILLOW    HRI/014/2021    7000   \n",
       "\n",
       "              Ward  \n",
       "#                   \n",
       "2138   ALUNGU WARD  \n",
       "2140   ALUNGU WARD  \n",
       "3166  DERKALE WARD  \n",
       "3716  DERKALE WARD  "
      ]
     },
     "execution_count": 19,
     "metadata": {},
     "output_type": "execute_result"
    }
   ],
   "source": [
    "#beneficiaries from my institution (Rongo University)\n",
    "Bursary[Bursary['Institution']=='RONGO UNIVERSITY']"
   ]
  },
  {
   "cell_type": "markdown",
   "id": "0b6f20b8-c9d5-41d9-8793-8791a7c99c0e",
   "metadata": {},
   "source": [
    "## Duplicates "
   ]
  },
  {
   "cell_type": "markdown",
   "id": "3823b61e-9c85-4b57-b13c-d5850f45c2bd",
   "metadata": {},
   "source": [
    "#### Duplicates according to Admission Numbers"
   ]
  },
  {
   "cell_type": "code",
   "execution_count": 21,
   "id": "e5a5c6d7-442e-4f47-8128-1f62b39f40b1",
   "metadata": {},
   "outputs": [
    {
     "data": {
      "text/plain": [
       "259"
      ]
     },
     "execution_count": 21,
     "metadata": {},
     "output_type": "execute_result"
    }
   ],
   "source": [
    "x= Bursary[Bursary.duplicated('Adm No.')]==True\n",
    "x['Student Names'].count()"
   ]
  },
  {
   "cell_type": "markdown",
   "id": "dfe92bcb-32a0-4df3-bab5-6a7d537146da",
   "metadata": {},
   "source": [
    "##### Example 1"
   ]
  },
  {
   "cell_type": "code",
   "execution_count": 28,
   "id": "4e1badcb-d213-4111-b321-8605d0330b2e",
   "metadata": {},
   "outputs": [
    {
     "data": {
      "text/html": [
       "<div>\n",
       "<style scoped>\n",
       "    .dataframe tbody tr th:only-of-type {\n",
       "        vertical-align: middle;\n",
       "    }\n",
       "\n",
       "    .dataframe tbody tr th {\n",
       "        vertical-align: top;\n",
       "    }\n",
       "\n",
       "    .dataframe thead th {\n",
       "        text-align: right;\n",
       "    }\n",
       "</style>\n",
       "<table border=\"1\" class=\"dataframe\">\n",
       "  <thead>\n",
       "    <tr style=\"text-align: right;\">\n",
       "      <th></th>\n",
       "      <th>Institution</th>\n",
       "      <th>Student Names</th>\n",
       "      <th>Adm No.</th>\n",
       "      <th>Amount</th>\n",
       "      <th>Ward</th>\n",
       "    </tr>\n",
       "    <tr>\n",
       "      <th>#</th>\n",
       "      <th></th>\n",
       "      <th></th>\n",
       "      <th></th>\n",
       "      <th></th>\n",
       "      <th></th>\n",
       "    </tr>\n",
       "  </thead>\n",
       "  <tbody>\n",
       "    <tr>\n",
       "      <th>1649</th>\n",
       "      <td>MANDERA TECHNICAL TRAINING INSTITUTE</td>\n",
       "      <td>Ahmed Aftin Adan</td>\n",
       "      <td>1090</td>\n",
       "      <td>8000</td>\n",
       "      <td>FINO WARD</td>\n",
       "    </tr>\n",
       "    <tr>\n",
       "      <th>1650</th>\n",
       "      <td>MANDERA TEACHERS TRAINING COLLEGE</td>\n",
       "      <td>AHMED AFTIN ADAN</td>\n",
       "      <td>1090</td>\n",
       "      <td>20000</td>\n",
       "      <td>LIBEHIYA WARD</td>\n",
       "    </tr>\n",
       "    <tr>\n",
       "      <th>1651</th>\n",
       "      <td>KENYA MEDICAL TRAINING COLLEGE</td>\n",
       "      <td>Ahmed Aftin Adan</td>\n",
       "      <td>1090</td>\n",
       "      <td>7000</td>\n",
       "      <td>WARANKARA WARD</td>\n",
       "    </tr>\n",
       "  </tbody>\n",
       "</table>\n",
       "</div>"
      ],
      "text/plain": [
       "                               Institution     Student Names Adm No.  Amount  \\\n",
       "#                                                                              \n",
       "1649  MANDERA TECHNICAL TRAINING INSTITUTE  Ahmed Aftin Adan    1090    8000   \n",
       "1650     MANDERA TEACHERS TRAINING COLLEGE  AHMED AFTIN ADAN    1090   20000   \n",
       "1651        KENYA MEDICAL TRAINING COLLEGE  Ahmed Aftin Adan    1090    7000   \n",
       "\n",
       "                Ward  \n",
       "#                     \n",
       "1649       FINO WARD  \n",
       "1650   LIBEHIYA WARD  \n",
       "1651  WARANKARA WARD  "
      ]
     },
     "execution_count": 28,
     "metadata": {},
     "output_type": "execute_result"
    }
   ],
   "source": [
    "Bursary[Bursary['Adm No.']==1090]"
   ]
  },
  {
   "cell_type": "markdown",
   "id": "190bc72f-fc08-4a1e-8bc3-8e469b3c2303",
   "metadata": {},
   "source": [
    "##### Example 2"
   ]
  },
  {
   "cell_type": "code",
   "execution_count": 38,
   "id": "77e6cd00-afc6-4007-b18a-141cecff839e",
   "metadata": {},
   "outputs": [
    {
     "data": {
      "text/html": [
       "<div>\n",
       "<style scoped>\n",
       "    .dataframe tbody tr th:only-of-type {\n",
       "        vertical-align: middle;\n",
       "    }\n",
       "\n",
       "    .dataframe tbody tr th {\n",
       "        vertical-align: top;\n",
       "    }\n",
       "\n",
       "    .dataframe thead th {\n",
       "        text-align: right;\n",
       "    }\n",
       "</style>\n",
       "<table border=\"1\" class=\"dataframe\">\n",
       "  <thead>\n",
       "    <tr style=\"text-align: right;\">\n",
       "      <th></th>\n",
       "      <th>Institution</th>\n",
       "      <th>Student Names</th>\n",
       "      <th>Adm No.</th>\n",
       "      <th>Amount</th>\n",
       "      <th>Ward</th>\n",
       "    </tr>\n",
       "    <tr>\n",
       "      <th>#</th>\n",
       "      <th></th>\n",
       "      <th></th>\n",
       "      <th></th>\n",
       "      <th></th>\n",
       "      <th></th>\n",
       "    </tr>\n",
       "  </thead>\n",
       "  <tbody>\n",
       "    <tr>\n",
       "      <th>1133</th>\n",
       "      <td>MOUNT KENYA UNIVERSITY</td>\n",
       "      <td>Abdiwarith Bishar Haji</td>\n",
       "      <td>BSWA/2022/54466</td>\n",
       "      <td>6000</td>\n",
       "      <td>ELWAK NORTH WARD</td>\n",
       "    </tr>\n",
       "    <tr>\n",
       "      <th>1322</th>\n",
       "      <td>MOUNT KENYA UNIVERSITY</td>\n",
       "      <td>Abdulwarth Bishar Haji</td>\n",
       "      <td>BSWA/2022/54466</td>\n",
       "      <td>6000</td>\n",
       "      <td>ELWAK SOUTH WARD</td>\n",
       "    </tr>\n",
       "  </tbody>\n",
       "</table>\n",
       "</div>"
      ],
      "text/plain": [
       "                 Institution           Student Names          Adm No.  Amount  \\\n",
       "#                                                                               \n",
       "1133  MOUNT KENYA UNIVERSITY  Abdiwarith Bishar Haji  BSWA/2022/54466    6000   \n",
       "1322  MOUNT KENYA UNIVERSITY  Abdulwarth Bishar Haji  BSWA/2022/54466    6000   \n",
       "\n",
       "                  Ward  \n",
       "#                       \n",
       "1133  ELWAK NORTH WARD  \n",
       "1322  ELWAK SOUTH WARD  "
      ]
     },
     "execution_count": 38,
     "metadata": {},
     "output_type": "execute_result"
    }
   ],
   "source": [
    "Bursary[Bursary['Adm No.']=='BSWA/2022/54466']"
   ]
  },
  {
   "cell_type": "markdown",
   "id": "2ba9d9b5-852c-48d1-b830-f4153a19828b",
   "metadata": {},
   "source": [
    "### Correlation"
   ]
  },
  {
   "cell_type": "code",
   "execution_count": 62,
   "id": "f4111d23-98d5-4175-a649-de3d377a68ab",
   "metadata": {},
   "outputs": [
    {
     "data": {
      "image/png": "[encoded data removed]",
      "text/plain": [
       "<Figure size 1200x800 with 1 Axes>"
      ]
     },
     "metadata": {},
     "output_type": "display_data"
    }
   ],
   "source": [
    "import matplotlib.pyplot as plt\n",
    "import seaborn as sns\n",
    "\n",
    "# Assuming 'Concat' DataFrame contains 'Number of Student' and 'Amount' columns\n",
    "plt.figure(figsize=(12, 8))\n",
    "\n",
    "# Scatter plot to show the relationship between 'Number of Student' and 'Amount'\n",
    "sns.scatterplot(x=Per_ward['Number of Student'], y=Per_ward['Amount'], color='b', s=100)\n",
    "\n",
    "# Add title and labels\n",
    "plt.title('Relationship Between Number of Students and Funding Amount', fontsize=16)\n",
    "plt.xlabel('Number of Students', fontsize=14)\n",
    "plt.ylabel('Amount (in Millions)', fontsize=14)\n",
    "\n",
    "# Optionally, you can add a regression line to better visualize the trend\n",
    "sns.regplot(x=Per_ward['Number of Student'], y=Per_ward['Amount'], scatter=False, color='r', line_kws={'linewidth': 2})\n",
    "\n",
    "# Show the plot\n",
    "plt.show()\n"
   ]
  },
  {
   "cell_type": "code",
   "execution_count": 63,
   "id": "20d68eae-ee4a-4e43-894a-e69188bf32d6",
   "metadata": {},
   "outputs": [
    {
     "data": {
      "text/plain": [
       "0.8816554054266261"
      ]
     },
     "execution_count": 63,
     "metadata": {},
     "output_type": "execute_result"
    }
   ],
   "source": [
    "correlation = Per_ward['Number of Student'].corr(Per_ward['Amount'])\n",
    "correlation\n"
   ]
  },
  {
   "cell_type": "markdown",
   "id": "8a4f3d9f-86be-4a43-bb7a-8b742102701c",
   "metadata": {},
   "source": [
    "## *Summary*"
   ]
  },
  {
   "cell_type": "markdown",
   "id": "bdc3664a-dc07-4522-a109-601087dc55b8",
   "metadata": {},
   "source": [
    "This project focuses on analyzing the relationship between student enrollment and funding across different wards in **Mandera County**, Kenya. The analysis explores the number of students and the total amount allocated to each ward.\n",
    "The findings  could inform future decisions about resource allocation and provide an overview of disparities.\n",
    "\n",
    "\n",
    "\n",
    "1. The ward with the highest number of students is **ELWAK SOUTH WARD**, with **474** students enrolled. This shows that this ward has a significant student population compared to other Wards in Mandera County.\n",
    "\n",
    "2. The ward receiving the highest amount of funding is **NEBOI WARD**, with a total of Ksh **4,133,500** allocated.\n",
    "\n",
    "3. **SALA WARD** had the lowest number of student (61) and received the lowest amount (658,000)\n",
    "\n",
    "4. There are **372 universities** spread across the **30 wards** \n",
    "\n",
    "5. **MOUNT KENYA UNIVERSITY** has the highest number (2046) followed by **KENYA MEDICAL TRAINING COLLEGE** (1094)\n",
    "\n",
    "\n"
   ]
  },
  {
   "cell_type": "markdown",
   "id": "58fb0c9e-1236-4cb0-8b2b-cfa45cf7b37c",
   "metadata": {},
   "source": [
    "### Key inferences\n",
    "1. Some wards, despite having a high number of students, receive relatively lower amounts of funding (for example, MOROTHILE WARD, WARANKARA WARD, ELWAK NORTH, and TAKABA SOUTH).\n",
    "On the other hand, wards with lower student populations tend to receive more funding (for example,MALKAMARI WARD, KHALALIO WARD, LAFEY WARD, TOWNSHIP WARD, and NEBOI WARD).\n",
    "\n",
    "2. There is a strong positive correlation (r = 0.88) between the number of students and the amount of funding in most wards, meaning that as the number of students increases, the funding allocated to the ward also tends to increase.\n",
    "\n",
    "3. There are over ***250 duplicates*** in the data. This is as a result of many students applying more than once. some also applied from different wards, yet they received the the funding."
   ]
  },
  {
   "cell_type": "markdown",
   "id": "d1b39b17-b011-4793-bcf0-98dcbffabaa2",
   "metadata": {
    "jp-MarkdownHeadingCollapsed": true
   },
   "source": [
    "### Conclusions\n",
    "-The analysis reveals that while there is a general trend of increased funding with increased student enrollment, several wards exhibit unequal distributions of resources.\n",
    "\n",
    "-Policymakers and stakeholders could benefit from a more granular approach to resource allocation, ensuring that funding is aligned with the specific needs of each ward.\n",
    "\n",
    "-The results are actionable for improving the fairness and transparency of funding distribution across regions."
   ]
  },
  {
   "cell_type": "markdown",
   "id": "cfc81c0c-7f6a-4996-9b95-7f09e2d4c1ba",
   "metadata": {},
   "source": [
    "### Recommendations\n",
    "-Investigate the factors influencing the disparities in funding (for example, socioeconomic status, infrastructure, the institution types).\n",
    "\n",
    "-Review current funding models to ensure equitable distribution based on student needs and growth trends.\n",
    "\n",
    "-Ensure policies and procedures are put in place to avoid duplicates\n",
    "\n",
    "-Engage with local communities and education authorities to better understand their specific challenges and funding req\n",
    "\n"
   ]
  },
  {
   "cell_type": "code",
   "execution_count": null,
   "id": "4bcaa8b1-199d-4f52-bd40-0239a85a88d3",
   "metadata": {},
   "outputs": [],
   "source": []
  }
 ],
 "metadata": {
  "kernelspec": {
   "display_name": "Python 3 (ipykernel)",
   "language": "python",
   "name": "python3"
  },
  "language_info": {
   "codemirror_mode": {
    "name": "ipython",
    "version": 3
   },
   "file_extension": ".py",
   "mimetype": "text/x-python",
   "name": "python",
   "nbconvert_exporter": "python",
   "pygments_lexer": "ipython3",
   "version": "3.11.7"
  }
 },
 "nbformat": 4,
 "nbformat_minor": 5
}
